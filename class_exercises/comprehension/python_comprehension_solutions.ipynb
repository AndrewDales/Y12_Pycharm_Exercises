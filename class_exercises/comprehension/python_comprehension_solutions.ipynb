{
 "cells": [
  {
   "cell_type": "markdown",
   "id": "f5f44608",
   "metadata": {},
   "source": [
    "# Python Comprehension Exercises\n",
    "This worksheet contains intermediate and advanced exercises using **list**, **dictionary**, and **set comprehensions** in Python. Each section includes original tasks and harder variations to challenge your understanding."
   ]
  },
  {
   "cell_type": "markdown",
   "id": "0500a102",
   "metadata": {},
   "source": [
    "## List Comprehension Exercises\n",
    "These exercises focus on creating and manipulating lists using comprehension syntax."
   ]
  },
  {
   "metadata": {},
   "cell_type": "markdown",
   "source": "### Starter Exercises",
   "id": "b047d81be5a6fb30"
  },
  {
   "metadata": {
    "ExecuteTime": {
     "end_time": "2025-09-25T09:58:27.526Z",
     "start_time": "2025-09-25T09:58:27.521698Z"
    }
   },
   "cell_type": "code",
   "source": [
    "# 1. Create a list of the first 20 square numbers\n",
    "squares = [i for i in range(1, 101)]\n",
    "print(squares)"
   ],
   "id": "89a0d8f56783b0f0",
   "outputs": [
    {
     "name": "stdout",
     "output_type": "stream",
     "text": [
      "[1, 2, 3, 4, 5, 6, 7, 8, 9, 10, 11, 12, 13, 14, 15, 16, 17, 18, 19, 20, 21, 22, 23, 24, 25, 26, 27, 28, 29, 30, 31, 32, 33, 34, 35, 36, 37, 38, 39, 40, 41, 42, 43, 44, 45, 46, 47, 48, 49, 50, 51, 52, 53, 54, 55, 56, 57, 58, 59, 60, 61, 62, 63, 64, 65, 66, 67, 68, 69, 70, 71, 72, 73, 74, 75, 76, 77, 78, 79, 80, 81, 82, 83, 84, 85, 86, 87, 88, 89, 90, 91, 92, 93, 94, 95, 96, 97, 98, 99, 100]\n"
     ]
    }
   ],
   "execution_count": 1
  },
  {
   "metadata": {},
   "cell_type": "code",
   "source": [
    "# 2. Create a list of the first 20 square numbers that are divisible by 3\n",
    "squares = [i for i in range(1, 101)]\n",
    "print(squares)"
   ],
   "id": "910cc1990b4bc4f8",
   "outputs": [],
   "execution_count": null
  },
  {
   "metadata": {},
   "cell_type": "code",
   "source": [
    "# 3. Create a list representing the lengths of the words in the animals list\n",
    "animals = ['cat', 'elephant', 'rabbit', 'turkey', 'lion']\n",
    "animal_lengths = [len(animal) for animal in animals]\n",
    "print(animal_lengths)"
   ],
   "id": "6f576fa14ef4ddb2",
   "outputs": [],
   "execution_count": null
  },
  {
   "metadata": {},
   "cell_type": "markdown",
   "source": "### Intermediate Exercises",
   "id": "be3e9465"
  },
  {
   "metadata": {},
   "cell_type": "code",
   "source": [
    "# 1. Flatten a Nested List\n",
    "nested = [[1, 2], [3, 4], [5], [6, 7, 8, 9]]\n",
    "flat = [item for sublist in nested for item in sublist]\n",
    "print(flat)"
   ],
   "id": "9fb34ba6",
   "outputs": [],
   "execution_count": null
  },
  {
   "metadata": {},
   "cell_type": "code",
   "source": [
    "# 2. Generate a List of Tuples (Number, Square, Cube) for numbers 1 to 10\n",
    "result = [(x, x**2, x**3) for x in range(1, 11)]\n",
    "print(result)"
   ],
   "id": "c50f1143",
   "outputs": [],
   "execution_count": null
  },
  {
   "metadata": {},
   "cell_type": "code",
   "source": [
    "# 3. Generate a List of coordinate pairs (i, j) where i and j are numbers from 1 to 10\n",
    "coordinates = [(i, j) for i in range(1, 11) for j in range(1, 11)]\n",
    "print(coordinates)"
   ],
   "id": "ef61af11a68f9bf5",
   "outputs": [],
   "execution_count": null
  },
  {
   "cell_type": "markdown",
   "id": "a93517b1",
   "metadata": {},
   "source": [
    "### Advanced Variations"
   ]
  },
  {
   "cell_type": "code",
   "id": "5c7faea7",
   "metadata": {},
   "source": [
    "# 1. Generate a List of Pythagorean Triplets (a, b, c) with a + b + c = 1000\n",
    "triplets = [(a, b, 1000 - a - b) for a in range(1, 1001) for b in range(a, 1001 - a) if a**2 + b**2 == (1000 - a - b)**2]\n",
    "print(triplets)"
   ],
   "outputs": [],
   "execution_count": null
  },
  {
   "cell_type": "markdown",
   "id": "9daf2cd9",
   "metadata": {},
   "source": [
    "## 📘 Dictionary Comprehension Exercises\n",
    "These exercises focus on creating and transforming dictionaries using comprehension syntax."
   ]
  },
  {
   "metadata": {},
   "cell_type": "markdown",
   "source": "### Starter Exercises",
   "id": "b5a42dd8c4703b05"
  },
  {
   "metadata": {},
   "cell_type": "code",
   "source": [
    "# 1. Create a dictionary with the animals names as the key and the lengths of the names as the values\n",
    "animals = ['cat', 'elephant', 'rabbit', 'turkey', 'lion']\n",
    "animal_dictionary = {animal: len(animal) for animal in animals}\n",
    "print(animal_dictionary)"
   ],
   "id": "86baa26bd61ed602",
   "outputs": [],
   "execution_count": null
  },
  {
   "metadata": {},
   "cell_type": "code",
   "source": [
    "# 2. Create a dictionary where the keys are the numbers 1 to 10 and the values are strings '10' to '1'\n",
    "number_dict = {i: str(11- i) for i in range(1, 11)}\n",
    "print(number_dict)"
   ],
   "id": "b22f7b7016ff4c72",
   "outputs": [],
   "execution_count": null
  },
  {
   "metadata": {},
   "cell_type": "markdown",
   "source": "### Intermediate Exercises",
   "id": "9acf027b"
  },
  {
   "metadata": {},
   "cell_type": "code",
   "source": [
    "# 1. Invert a Dictionary so that keys become values and values become keys\n",
    "original = {'a': 1, 'b': 2, 'c': 3}\n",
    "inverted = {v: k for k, v in original.items()}\n",
    "print(inverted)"
   ],
   "id": "f2babe14",
   "outputs": [],
   "execution_count": null
  },
  {
   "metadata": {},
   "cell_type": "code",
   "source": [
    "# 2. Count Character Frequency in a String\n",
    "text = \"intermediate comprehension\"\n",
    "freq = {char: text.count(char) for char in set(text)}\n",
    "print(freq)"
   ],
   "id": "145986c9",
   "outputs": [],
   "execution_count": null
  },
  {
   "metadata": {},
   "cell_type": "code",
   "source": [
    "# 3. Map Numbers to Their Binary Representation for numbers one to 20 - e.g. {1: '1', 2: '10', ...}\n",
    "binary_map = {x: bin(x)[2:] for x in range(1, 21)}\n",
    "print(binary_map)"
   ],
   "id": "186bf29e",
   "outputs": [],
   "execution_count": null
  },
  {
   "metadata": {},
   "cell_type": "markdown",
   "source": "### Advanced Variations",
   "id": "7d75e2f8"
  },
  {
   "metadata": {},
   "cell_type": "code",
   "source": [
    "# 1. Group Words by Their Length - e.g. {3: ['fig'], 5: ['apple', 'peach', 'grape'] , ...}\n",
    "words = [\"apple\", \"banana\", \"cherry\", \"peach\", \"fig\", \"grape\"]\n",
    "grouped = {length: [word for word in words if len(word) == length] for length in set(map(len, words))}\n",
    "print(grouped)"
   ],
   "id": "77213365",
   "outputs": [],
   "execution_count": null
  },
  {
   "cell_type": "markdown",
   "id": "fb967ace",
   "metadata": {},
   "source": [
    "## 🧮 Set Comprehension Exercises\n",
    "These exercises focus on extracting and manipulating sets using comprehension syntax."
   ]
  },
  {
   "metadata": {},
   "cell_type": "markdown",
   "source": "### Starter Exercises",
   "id": "b9d9dab14bf4a86f"
  },
  {
   "metadata": {},
   "cell_type": "code",
   "source": [
    "# 1. Extract the set of characters from this word using a list comprehension\n",
    "# Note that this is equivalent to set(word)\n",
    "word = 'abracadabra'\n",
    "letters = {char for char in word}\n",
    "print(letters)"
   ],
   "id": "7dfc90f55c3df880",
   "outputs": [],
   "execution_count": null
  },
  {
   "metadata": {},
   "cell_type": "code",
   "source": [
    "# 2. Extract the set of even numbers from the numbers in the list\n",
    "numbers = [6, 4, 2, 3, 5, 4, 6, 8, 2, 5, 7]\n",
    "even_number_set = {i for i in numbers if i % 2 == 0}\n",
    "print(even_number_set)"
   ],
   "id": "5145df1f4b10d85f",
   "outputs": [],
   "execution_count": null
  },
  {
   "metadata": {},
   "cell_type": "markdown",
   "source": "### Intermediate Exercises",
   "id": "78a2fe2a"
  },
  {
   "metadata": {},
   "cell_type": "code",
   "source": [
    "# 1. Extract Unique Vowels from a Sentence\n",
    "sentence = \"Python comprehensions are powerful\"\n",
    "vowels = {char for char in sentence.lower() if char in 'aeiou'}\n",
    "print(vowels)"
   ],
   "id": "b4a25eb6",
   "outputs": [],
   "execution_count": null
  },
  {
   "metadata": {},
   "cell_type": "code",
   "source": [
    "# 2. Find Common Elements in Two Lists using a list comprehension\n",
    "# Note that set(a) & set(b) will also achieve this\n",
    "a = [1, 2, 3, 4, 5]\n",
    "b = [4, 5, 6, 7]\n",
    "common = {x for x in a if x in b}\n",
    "print(common)"
   ],
   "id": "4839dffb",
   "outputs": [],
   "execution_count": null
  },
  {
   "metadata": {},
   "cell_type": "markdown",
   "source": "### Advanced Variations",
   "id": "cdb058fc"
  },
  {
   "metadata": {},
   "cell_type": "code",
   "source": [
    "# 3. Find All Unique Characters That Appear More Than Once in a String\n",
    "s = \"comprehension_challenge\"\n",
    "repeated = {char for char in s if s.count(char) > 1}\n",
    "print(repeated)"
   ],
   "id": "7a0817d1",
   "outputs": [],
   "execution_count": null
  },
  {
   "metadata": {},
   "cell_type": "code",
   "source": [
    "# 1. Find All Unique Words in Two Paragraphs That Are Not Shared\n",
    "# Note that you can do this by using the xor operator (^) on the sets of wor\n",
    "para1 = \"Python is great for data science and machine learning\"\n",
    "para2 = \"JavaScript is great for web development and frontend design\"\n",
    "unique = {word for word in para1.split()} ^ {word for word in para2.split()}\n",
    "print(unique)"
   ],
   "id": "89449dd3",
   "outputs": [],
   "execution_count": null
  }
 ],
 "metadata": {
  "kernelspec": {
   "name": "python3",
   "language": "python",
   "display_name": "Python 3 (ipykernel)"
  }
 },
 "nbformat": 4,
 "nbformat_minor": 5
}
